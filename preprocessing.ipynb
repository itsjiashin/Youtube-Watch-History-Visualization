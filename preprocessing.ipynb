{
 "cells": [
  {
   "cell_type": "code",
   "execution_count": 1,
   "id": "943f06de",
   "metadata": {},
   "outputs": [],
   "source": [
    "import json\n",
    "import pandas as pd\n",
    "import boto3\n",
    "from datetime import datetime, timedelta"
   ]
  },
  {
   "cell_type": "code",
   "execution_count": 2,
   "id": "6f2204cd",
   "metadata": {},
   "outputs": [],
   "source": [
    "def load_youtube_history(json_path: str) -> list:\n",
    "    \"\"\"\n",
    "    Load the YouTube watch history JSON file\n",
    "    \"\"\"\n",
    "    with open(json_path, 'r', encoding='utf-8') as f:\n",
    "        data = json.load(f)\n",
    "    return data"
   ]
  },
  {
   "cell_type": "code",
   "execution_count": null,
   "id": "4a401d8b",
   "metadata": {},
   "outputs": [],
   "source": [
    "def extract_relevant_fields(data: list) -> pd.DataFrame:\n",
    "    \"\"\"\n",
    "    Extract channel name and time from the raw JSON data\n",
    "    \"\"\"\n",
    "    records = []\n",
    "    \n",
    "    # Loop through every entry within the JSON file\n",
    "    for entry in data:\n",
    "        if 'subtitles' in entry:\n",
    "            channel_name = entry['subtitles'][0].get('name')\n",
    "        else:\n",
    "            channel_name = None\n",
    "        \n",
    "        time_str = entry.get('time')\n",
    "        # Appnd channel name and time\n",
    "        records.append({\n",
    "            'channel_name': channel_name,\n",
    "            'time': time_str\n",
    "        })\n",
    "    \n",
    "    return pd.DataFrame(records)"
   ]
  },
  {
   "cell_type": "code",
   "execution_count": null,
   "id": "f00c459c",
   "metadata": {},
   "outputs": [],
   "source": [
    "def convert_to_local_time(utc_time_str: str) -> datetime:\n",
    "    \"\"\"\n",
    "    Convert UTC timestamp (from Google Takeout) to local time:\n",
    "    - Before August 28, 2025: UK time (UTC+1)\n",
    "    - After August 28, 2025: Malaysia time (UTC+8)\n",
    "    \"\"\"\n",
    "    try:\n",
    "        utc_time = datetime.strptime(utc_time_str, \"%Y-%m-%dT%H:%M:%S.%fZ\")\n",
    "    # To catch any dates that have misaligned format\n",
    "    except ValueError:\n",
    "        return None \n",
    "\n",
    "    if utc_time < datetime(2025, 8, 28):\n",
    "        # UK local time\n",
    "        return utc_time + timedelta(hours=1)\n",
    "    else:\n",
    "        # Malaysian local time\n",
    "        return utc_time + timedelta(hours=8)"
   ]
  },
  {
   "cell_type": "code",
   "execution_count": 11,
   "id": "4e0fef27",
   "metadata": {},
   "outputs": [],
   "source": [
    "def process_time_columns(df: pd.DataFrame) -> pd.DataFrame:\n",
    "    \"\"\"\n",
    "    Convert timestamps into separate date and time columns (local time)\n",
    "    \"\"\"\n",
    "\n",
    "    df = df.copy()\n",
    "\n",
    "    # Convert all UTC times → local time\n",
    "    df['local_time'] = df['time'].apply(convert_to_local_time)\n",
    "\n",
    "    # Drop rows with invalid or missing times\n",
    "    df = df.dropna(subset=['local_time'])\n",
    "\n",
    "    # Extract date and time strings\n",
    "    df['date'] = df['local_time'].dt.strftime('%Y-%m-%d')\n",
    "    df['time_only'] = df['local_time'].dt.strftime('%H:%M')\n",
    "\n",
    "    # Keep only relevant columns\n",
    "    return df[['channel_name', 'date', 'time_only']]"
   ]
  },
  {
   "cell_type": "code",
   "execution_count": 6,
   "id": "b0fef4b4",
   "metadata": {},
   "outputs": [],
   "source": [
    "def save_to_csv(df: pd.DataFrame, output_path: str) -> None:\n",
    "    \"\"\"\n",
    "    Save cleaned DataFrame to a CSV file\n",
    "    \"\"\"\n",
    "    df.to_csv(output_path, index=False)\n",
    "    print(f\"Saved cleaned data to: {output_path}\")"
   ]
  },
  {
   "cell_type": "code",
   "execution_count": 7,
   "id": "36739a9a",
   "metadata": {},
   "outputs": [],
   "source": [
    "def upload_to_s3(local_path, bucket, s3_path) -> None:\n",
    "    \"\"\"\n",
    "    Upload preprocessed CSV file to S3 bucket\n",
    "    \"\"\"\n",
    "    s3 = boto3.client('s3')\n",
    "    try:\n",
    "        s3.upload_file(local_path, bucket, s3_path)\n",
    "        print(f\"Uploaded {local_path} to s3://{bucket}/{s3_path}\")\n",
    "    except Exception as e:\n",
    "        print(f\"Upload failed: {e}\")"
   ]
  },
  {
   "cell_type": "code",
   "execution_count": 8,
   "id": "822c4e20",
   "metadata": {},
   "outputs": [],
   "source": [
    "raw_data = load_youtube_history(\"watch-history.json\")"
   ]
  },
  {
   "cell_type": "code",
   "execution_count": 9,
   "id": "947982d8",
   "metadata": {},
   "outputs": [],
   "source": [
    "df = extract_relevant_fields(raw_data)"
   ]
  },
  {
   "cell_type": "code",
   "execution_count": 12,
   "id": "124ded3c",
   "metadata": {},
   "outputs": [],
   "source": [
    "df_clean = process_time_columns(df)"
   ]
  },
  {
   "cell_type": "code",
   "execution_count": 16,
   "id": "348353bc",
   "metadata": {},
   "outputs": [
    {
     "data": {
      "text/html": [
       "<div>\n",
       "<style scoped>\n",
       "    .dataframe tbody tr th:only-of-type {\n",
       "        vertical-align: middle;\n",
       "    }\n",
       "\n",
       "    .dataframe tbody tr th {\n",
       "        vertical-align: top;\n",
       "    }\n",
       "\n",
       "    .dataframe thead th {\n",
       "        text-align: right;\n",
       "    }\n",
       "</style>\n",
       "<table border=\"1\" class=\"dataframe\">\n",
       "  <thead>\n",
       "    <tr style=\"text-align: right;\">\n",
       "      <th></th>\n",
       "      <th>channel_name</th>\n",
       "      <th>date</th>\n",
       "      <th>time_only</th>\n",
       "    </tr>\n",
       "  </thead>\n",
       "  <tbody>\n",
       "    <tr>\n",
       "      <th>0</th>\n",
       "      <td>Alex The Analyst</td>\n",
       "      <td>2025-10-21</td>\n",
       "      <td>16:18</td>\n",
       "    </tr>\n",
       "    <tr>\n",
       "      <th>1</th>\n",
       "      <td>VIEWS FROM SIX8™</td>\n",
       "      <td>2025-10-21</td>\n",
       "      <td>15:56</td>\n",
       "    </tr>\n",
       "    <tr>\n",
       "      <th>2</th>\n",
       "      <td>High Peak Autos</td>\n",
       "      <td>2025-10-21</td>\n",
       "      <td>15:49</td>\n",
       "    </tr>\n",
       "    <tr>\n",
       "      <th>3</th>\n",
       "      <td>High Peak Autos</td>\n",
       "      <td>2025-10-21</td>\n",
       "      <td>15:42</td>\n",
       "    </tr>\n",
       "    <tr>\n",
       "      <th>4</th>\n",
       "      <td>zWORMz Gaming</td>\n",
       "      <td>2025-10-21</td>\n",
       "      <td>15:41</td>\n",
       "    </tr>\n",
       "  </tbody>\n",
       "</table>\n",
       "</div>"
      ],
      "text/plain": [
       "       channel_name        date time_only\n",
       "0  Alex The Analyst  2025-10-21     16:18\n",
       "1  VIEWS FROM SIX8™  2025-10-21     15:56\n",
       "2   High Peak Autos  2025-10-21     15:49\n",
       "3   High Peak Autos  2025-10-21     15:42\n",
       "4     zWORMz Gaming  2025-10-21     15:41"
      ]
     },
     "execution_count": 16,
     "metadata": {},
     "output_type": "execute_result"
    }
   ],
   "source": [
    "# An example of how the structure of the data look like \n",
    "df_clean.head(5)"
   ]
  },
  {
   "cell_type": "code",
   "execution_count": 13,
   "id": "48305e96",
   "metadata": {},
   "outputs": [
    {
     "name": "stdout",
     "output_type": "stream",
     "text": [
      "Saved cleaned data to: preprocessed_youtube_watch_history.csv\n"
     ]
    }
   ],
   "source": [
    "save_to_csv(df_clean, \"preprocessed_youtube_watch_history.csv\")"
   ]
  },
  {
   "cell_type": "code",
   "execution_count": 14,
   "id": "560ae172",
   "metadata": {},
   "outputs": [
    {
     "name": "stdout",
     "output_type": "stream",
     "text": [
      "Uploaded preprocessed_youtube_watch_history.csv to s3://aws-projects-bucket-kjs/youtube-watch-history/preprocessed-data/preprocessed_youtube_watch_history.csv\n"
     ]
    }
   ],
   "source": [
    "upload_to_s3(\"preprocessed_youtube_watch_history.csv\",\n",
    "             \"aws-projects-bucket-kjs\",\n",
    "             \"youtube-watch-history/preprocessed-data/preprocessed_youtube_watch_history.csv\")"
   ]
  }
 ],
 "metadata": {
  "kernelspec": {
   "display_name": "Python 3",
   "language": "python",
   "name": "python3"
  },
  "language_info": {
   "codemirror_mode": {
    "name": "ipython",
    "version": 3
   },
   "file_extension": ".py",
   "mimetype": "text/x-python",
   "name": "python",
   "nbconvert_exporter": "python",
   "pygments_lexer": "ipython3",
   "version": "3.12.6"
  }
 },
 "nbformat": 4,
 "nbformat_minor": 5
}
